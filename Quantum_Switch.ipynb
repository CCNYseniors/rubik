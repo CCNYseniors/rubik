{
 "cells": [
  {
   "cell_type": "code",
   "execution_count": 38,
   "metadata": {},
   "outputs": [
    {
     "name": "stderr",
     "output_type": "stream",
     "text": [
      "ibmqfactory.load_account:WARNING:2021-02-13 18:02:51,728: Credentials are already in use. The existing account in the session will be replaced.\n"
     ]
    }
   ],
   "source": [
    "%matplotlib inline\n",
    "# Importing standard Qiskit libraries\n",
    "from qiskit import QuantumCircuit, execute, Aer, IBMQ\n",
    "from qiskit.compiler import transpile, assemble\n",
    "from qiskit.tools.jupyter import *\n",
    "from qiskit.visualization import *\n",
    "from ibm_quantum_widgets import *\n",
    "\n",
    "# Loading your IBM Q account(s)\n",
    "provider = IBMQ.load_account()"
   ]
  },
  {
   "cell_type": "code",
   "execution_count": 39,
   "metadata": {},
   "outputs": [],
   "source": [
    "from qiskit import ClassicalRegister, QuantumRegister, QuantumCircuit\n",
    "from qiskit import execute, BasicAer\n",
    "from qiskit.tools.visualization import plot_histogram, circuit_drawer\n",
    "from ipywidgets import interact"
   ]
  },
  {
   "cell_type": "code",
   "execution_count": 40,
   "metadata": {},
   "outputs": [
    {
     "data": {
      "application/vnd.jupyter.widget-view+json": {
       "model_id": "9751b2bde21b4a1486ef8d2feb3bb625",
       "version_major": 2,
       "version_minor": 0
      },
      "text/plain": [
       "CircuitComposer(circuit=<qiskit.circuit.quantumcircuit.QuantumCircuit object at 0x7fa2f42b6e20>)"
      ]
     },
     "metadata": {},
     "output_type": "display_data"
    }
   ],
   "source": [
    "from qiskit import QuantumRegister, ClassicalRegister, QuantumCircuit\n",
    "from numpy import pi\n",
    "\n",
    "qreg_q = QuantumRegister(2, 'q')\n",
    "creg_c = ClassicalRegister(2, 'c')\n",
    "circuit = QuantumCircuit(qreg_q, creg_c)\n",
    "\n",
    "circuit.x(qreg_q[0])\n",
    "circuit.x(qreg_q[0])\n",
    "circuit.x(qreg_q[0])\n",
    "circuit.h(qreg_q[0])\n",
    "circuit.cx(qreg_q[0], qreg_q[1])\n",
    "circuit.measure(qreg_q[0], creg_c[0])\n",
    "circuit.rx(pi/3, qreg_q[0])\n",
    "circuit.measure(qreg_q[1], creg_c[1])\n",
    "circuit.ry(pi/5, qreg_q[1])\n",
    "\n",
    "editor = CircuitComposer(circuit=circuit)\n",
    "editor"
   ]
  },
  {
   "cell_type": "code",
   "execution_count": 41,
   "metadata": {},
   "outputs": [
    {
     "data": {
      "text/plain": [
       "<qiskit.circuit.instructionset.InstructionSet at 0x7fa2f427c070>"
      ]
     },
     "execution_count": 41,
     "metadata": {},
     "output_type": "execute_result"
    }
   ],
   "source": [
    "# This code is being generated automatically by the IBM Quantum Circuit Composer widget.\n",
    "# It changes in every update of the widget, so any modifications done in this cell will be lost.\n",
    "# State: disconnected\n",
    "\n",
    "from qiskit import QuantumRegister, ClassicalRegister, QuantumCircuit\n",
    "from numpy import pi\n",
    "\n",
    "qreg_q = QuantumRegister(2, 'q')\n",
    "creg_c = ClassicalRegister(2, 'c')\n",
    "circuit = QuantumCircuit(qreg_q, creg_c)\n",
    "\n",
    "circuit.x(qreg_q[0])\n",
    "circuit.x(qreg_q[0])\n",
    "circuit.x(qreg_q[0])\n",
    "circuit.h(qreg_q[0])\n",
    "circuit.cx(qreg_q[0], qreg_q[1])\n",
    "circuit.measure(qreg_q[0], creg_c[0])\n",
    "circuit.rx(pi/3, qreg_q[0])\n",
    "circuit.measure(qreg_q[1], creg_c[1])\n",
    "circuit.ry(pi/5, qreg_q[1])"
   ]
  },
  {
   "cell_type": "code",
   "execution_count": 42,
   "metadata": {},
   "outputs": [
    {
     "data": {
      "text/plain": [
       "<qiskit.circuit.instructionset.InstructionSet at 0x7fa2f427c6a0>"
      ]
     },
     "execution_count": 42,
     "metadata": {},
     "output_type": "execute_result"
    }
   ],
   "source": [
    "# This code is being generated automatically by the IBM Quantum Circuit Composer widget.\n",
    "# It changes in every update of the widget, so any modifications done in this cell will be lost.\n",
    "# State: disconnected\n",
    "\n",
    "from qiskit import QuantumRegister, ClassicalRegister, QuantumCircuit\n",
    "from numpy import pi\n",
    "\n",
    "qreg_q = QuantumRegister(2, 'q')\n",
    "creg_c = ClassicalRegister(2, 'c')\n",
    "circuit = QuantumCircuit(qreg_q, creg_c)\n",
    "\n",
    "circuit.x(qreg_q[0])\n",
    "circuit.x(qreg_q[0])\n",
    "circuit.x(qreg_q[0])\n",
    "circuit.h(qreg_q[0])\n",
    "circuit.cx(qreg_q[0], qreg_q[1])\n",
    "circuit.measure(qreg_q[0], creg_c[0])\n",
    "circuit.rx(pi/3, qreg_q[0])\n",
    "circuit.measure(qreg_q[1], creg_c[1])\n",
    "circuit.ry(pi/5, qreg_q[1])"
   ]
  },
  {
   "cell_type": "code",
   "execution_count": 43,
   "metadata": {},
   "outputs": [
    {
     "data": {
      "image/png": "[encoded data removed]",
      "text/plain": [
       "<Figure size 568.052x204.68 with 1 Axes>"
      ]
     },
     "execution_count": 43,
     "metadata": {},
     "output_type": "execute_result"
    }
   ],
   "source": [
    "circuit.draw()"
   ]
  },
  {
   "cell_type": "code",
   "execution_count": 44,
   "metadata": {},
   "outputs": [],
   "source": [
    "from qiskit.tools.visualization import plot_histogram"
   ]
  },
  {
   "cell_type": "code",
   "execution_count": 45,
   "metadata": {},
   "outputs": [],
   "source": [
    "simulator = Aer.get_backend('qasm_simulator')"
   ]
  },
  {
   "cell_type": "code",
   "execution_count": 46,
   "metadata": {},
   "outputs": [
    {
     "data": {
      "image/png": "[encoded data removed]",
      "text/plain": [
       "<Figure size 504x360 with 1 Axes>"
      ]
     },
     "execution_count": 46,
     "metadata": {},
     "output_type": "execute_result"
    }
   ],
   "source": [
    "result = execute(circuit, backend = simulator).result()\n",
    "plot_histogram(result.get_counts(circuit))"
   ]
  },
  {
   "cell_type": "code",
   "execution_count": 54,
   "metadata": {},
   "outputs": [
    {
     "name": "stderr",
     "output_type": "stream",
     "text": [
      "ibmqfactory.load_account:WARNING:2021-02-13 18:14:08,329: Credentials are already in use. The existing account in the session will be replaced.\n"
     ]
    },
    {
     "name": "stdout",
     "output_type": "stream",
     "text": [
      "Job Status: job has successfully run\n",
      "\n",
      "NumofCounts['00']: 506\n",
      "NumofCounts['11']: 518\n"
     ]
    },
    {
     "data": {
      "image/png": "[encoded data removed]",
      "text/plain": [
       "<Figure size 504x360 with 1 Axes>"
      ]
     },
     "execution_count": 54,
     "metadata": {},
     "output_type": "execute_result"
    }
   ],
   "source": [
    "IBMQ.load_account()\n",
    "provider = IBMQ.get_provider('ibm-q')\n",
    "qcomp = provider.get_backend('ibmq_qasm_simulator')\n",
    "job = execute(circuit, backend=qcomp)\n",
    "from qiskit.tools.monitor import job_monitor\n",
    "job_monitor(job)\n",
    "result = job.result()\n",
    "NumofCounts=result.get_counts(circuit)\n",
    "NumofCount0 = NumofCounts['00']\n",
    "NumofCount1 = NumofCounts['11']\n",
    "print(\"\\nNumofCounts['00']:\", NumofCount0)\n",
    "print(\"NumofCounts['11']:\", NumofCount1)\n",
    "plot_histogram(result.get_counts(circuit))"
   ]
  },
  {
   "cell_type": "code",
   "execution_count": null,
   "metadata": {},
   "outputs": [],
   "source": [
    "# We ran this circuit in the Circuit Composer and got variant in measurement probabilities.\n",
    "# This is different from get_count().\n",
    "# Our hope was that rotation gates would give variant probabilities and still have 50-50."
   ]
  },
  {
   "cell_type": "code",
   "execution_count": 55,
   "metadata": {},
   "outputs": [
    {
     "name": "stdout",
     "output_type": "stream",
     "text": [
      "0.494140625\n"
     ]
    }
   ],
   "source": [
    "probability = NumofCount0/(NumofCount0+NumofCount1)\n",
    "print(probability)"
   ]
  }
 ],
 "metadata": {
  "kernelspec": {
   "display_name": "Python 3",
   "language": "python",
   "name": "python3"
  },
  "language_info": {
   "codemirror_mode": {
    "name": "ipython",
    "version": 3
   },
   "file_extension": ".py",
   "mimetype": "text/x-python",
   "name": "python",
   "nbconvert_exporter": "python",
   "pygments_lexer": "ipython3",
   "version": "3.8.6"
  },
  "widgets": {
   "application/vnd.jupyter.widget-state+json": {
    "state": {
     "014378f5a9524fef82f867b8715d3916": {
      "model_module": "@jupyter-widgets/controls",
      "model_module_version": "1.5.0",
      "model_name": "HTMLModel",
      "state": {
       "layout": "IPY_MODEL_6346cdd793534dc18ef678f4da722395",
       "style": "IPY_MODEL_7e58cc51c8084ca9b81158c6bba114da",
       "value": "-"
      }
     },
     "0334d534ca4f42d189f86e1aa8976a66": {
      "model_module": "@jupyter-widgets/controls",
      "model_module_version": "1.5.0",
      "model_name": "HTMLModel",
      "state": {
       "layout": "IPY_MODEL_76b67da656fc426e99c1783ba390db22",
       "style": "IPY_MODEL_8bc0aa81d6e240d2bdc8d6481507be68",
       "value": "60281222b3c67f75c8f3cdb5"
      }
     },
     "03be78113a114be99bc3f0d5f58179b0": {
      "model_module": "@jupyter-widgets/controls",
      "model_module_version": "1.5.0",
      "model_name": "DescriptionStyleModel",
      "state": {
       "description_width": ""
      }
     },
     "03e95f85b8054de580a51f298317e957": {
      "model_module": "@jupyter-widgets/controls",
      "model_module_version": "1.5.0",
      "model_name": "ButtonModel",
      "state": {
       "icon": "close",
       "layout": "IPY_MODEL_6eaa53b8ac204434867a11fbdf40a8a1",
       "style": "IPY_MODEL_bd161ced715b47399b3e160a5775b79f"
      }
     },
     "047beb1e465b4d29b19f1ecf5d6e7d2f": {
      "model_module": "@jupyter-widgets/controls",
      "model_module_version": "1.5.0",
      "model_name": "DescriptionStyleModel",
      "state": {
       "description_width": ""
      }
     },
     "07efe3d267e34cfb9c84b1701c955e4e": {
      "model_module": "@jupyter-widgets/controls",
      "model_module_version": "1.5.0",
      "model_name": "DescriptionStyleModel",
      "state": {
       "description_width": ""
      }
     },
     "0864c7db0c8441e7915061203ff6c659": {
      "model_module": "@jupyter-widgets/controls",
      "model_module_version": "1.5.0",
      "model_name": "DescriptionStyleModel",
      "state": {
       "description_width": ""
      }
     },
     "09d5248ba4f7486f890c5df5e383273e": {
      "model_module": "@jupyter-widgets/controls",
      "model_module_version": "1.5.0",
      "model_name": "DescriptionStyleModel",
      "state": {
       "description_width": ""
      }
     },
     "0caa9d1dc97b45ad8b6c8c7401781976": {
      "model_module": "@jupyter-widgets/base",
      "model_module_version": "1.2.0",
      "model_name": "LayoutModel",
      "state": {
       "width": "70px"
      }
     },
     "1079cfd135fc4b60b2edf95904674c45": {
      "model_module": "@quantum/ibm-q-lab-widgets",
      "model_module_version": "^1.0.1",
      "model_name": "CircuitComposerModel",
      "state": {
       "_model_module_version": "^1.0.1",
       "_view_module_version": "^1.0.1",
       "circuit": "\"OPENQASM 2.0;\\ninclude \\\"qelib1.inc\\\";\\n\\nqreg q[2];\\ncreg c[2];\\n\\nx q[0];\\nx q[0];\\nx q[0];\\nh q[0];\\ncx q[0],q[1];\\nmeasure q[0] -> c[0];\\nrx(pi/3) q[0];\\nmeasure q[1] -> c[1];\\nry(pi/5) q[1];\"",
       "editable": true,
       "layout": "IPY_MODEL_8fb87d293836456c9274b2bbb47118e7",
       "qiskit_code_cell_index": -1
      }
     },
     "10f5b170397d458fbcdcbf762ac1e74c": {
      "model_module": "@jupyter-widgets/base",
      "model_module_version": "1.2.0",
      "model_name": "LayoutModel",
      "state": {
       "margin": "0px 5px 0px 0px",
       "width": "32px"
      }
     },
     "11d53bd1553448629f25228aafbea7a7": {
      "model_module": "@jupyter-widgets/controls",
      "model_module_version": "1.5.0",
      "model_name": "HBoxModel",
      "state": {
       "children": [
        "IPY_MODEL_03e95f85b8054de580a51f298317e957",
        "IPY_MODEL_f2ee63c13e464a0d94ad5213f19e9637",
        "IPY_MODEL_3a025187aac2482c83023cb3c7e99f9d",
        "IPY_MODEL_f270ec459fa74c1b86aa570ed11de10f",
        "IPY_MODEL_57bb814f012848a098ecf16f80aa20a1",
        "IPY_MODEL_d2603ab92aad4a958abd2d4fd95b84ad"
       ],
       "layout": "IPY_MODEL_2d47e6a8aab947e98d64d650d4975299"
      }
     },
     "135bd9b1918047e8adeec27edf14d0af": {
      "model_module": "@jupyter-widgets/controls",
      "model_module_version": "1.5.0",
      "model_name": "HBoxModel",
      "state": {
       "children": [
        "IPY_MODEL_79a86611df25416fbcbde11450cbc422",
        "IPY_MODEL_369cf4a49ba64a7d909e8da0fa95ff93",
        "IPY_MODEL_c1a564ce00c24d89b4fe466699f4e36d",
        "IPY_MODEL_78eaa3345b534cb6a46bff65289d012c",
        "IPY_MODEL_014378f5a9524fef82f867b8715d3916",
        "IPY_MODEL_44fb54a7fc6e4b56867870d285d9d3a4"
       ],
       "layout": "IPY_MODEL_93fbcacfbc9f4c66a2927f9f1e820cde"
      }
     },
     "1631c264857f484bbb268d6453aa6e48": {
      "model_module": "@jupyter-widgets/controls",
      "model_module_version": "1.5.0",
      "model_name": "HTMLModel",
      "state": {
       "layout": "IPY_MODEL_7b588c0eef8542cb9457e08b18dba59a",
       "style": "IPY_MODEL_b10c33d2f323486981ac284c5c4ff925",
       "value": "<p style='font-family: IBM Plex Sans, Arial, Helvetica, sans-serif; font-size: 20px; font-weight: medium;'>Circuit Properties</p>"
      }
     },
     "16ad3745d9e144dc869ae5fa6c5c2657": {
      "model_module": "@jupyter-widgets/controls",
      "model_module_version": "1.5.0",
      "model_name": "GridBoxModel",
      "state": {
       "children": [
        "IPY_MODEL_728aec21b64e477799bdde3805c2c385"
       ],
       "layout": "IPY_MODEL_5ca371bbaace44efa99665685d6fc2c3"
      }
     },
     "189c970ab84b4f06bdd61da987876311": {
      "model_module": "@jupyter-widgets/controls",
      "model_module_version": "1.5.0",
      "model_name": "HTMLModel",
      "state": {
       "layout": "IPY_MODEL_4c3e114e91a44d7c8df94db61f0e4d7b",
       "style": "IPY_MODEL_8f694d43b3054eb0988a879b372c2870",
       "value": "ibmq_qasm_simulator"
      }
     },
     "1cca535811894ae7b2ae321082a1cb1a": {
      "model_module": "@jupyter-widgets/base",
      "model_module_version": "1.2.0",
      "model_name": "LayoutModel",
      "state": {
       "overflow_x": "scroll"
      }
     },
     "1d4888d51eeb430c9b9403d207b54c8b": {
      "model_module": "@jupyter-widgets/controls",
      "model_module_version": "1.5.0",
      "model_name": "HTMLModel",
      "state": {
       "layout": "IPY_MODEL_e3d0229762b746439eea824c3e103004",
       "style": "IPY_MODEL_0864c7db0c8441e7915061203ff6c659",
       "value": "job has successfully run"
      }
     },
     "1d897310de994adb92f3e7946ba548d9": {
      "model_module": "@jupyter-widgets/controls",
      "model_module_version": "1.5.0",
      "model_name": "DescriptionStyleModel",
      "state": {
       "description_width": ""
      }
     },
     "1dffe32e110d47cc82f0df80166a6732": {
      "model_module": "@jupyter-widgets/controls",
      "model_module_version": "1.5.0",
      "model_name": "HTMLModel",
      "state": {
       "layout": "IPY_MODEL_92329e908ba34f9d8f0593c605c4c748",
       "style": "IPY_MODEL_fc087bc9b6e24365b256517573b43be0",
       "value": "ibmq_qasm_simulator"
      }
     },
     "1f7a6868a2da4e1c881dbb4d2fc2b9c2": {
      "model_module": "@jupyter-widgets/controls",
      "model_module_version": "1.5.0",
      "model_name": "DescriptionStyleModel",
      "state": {
       "description_width": ""
      }
     },
     "204d151a19284112971ea98f005f30da": {
      "model_module": "@jupyter-widgets/controls",
      "model_module_version": "1.5.0",
      "model_name": "HBoxModel",
      "state": {
       "children": [
        "IPY_MODEL_b22622b7a6084ebe9c8fcccf7a060e83",
        "IPY_MODEL_2b4f067c2067475ea6d7679c2d1a9f75",
        "IPY_MODEL_1dffe32e110d47cc82f0df80166a6732",
        "IPY_MODEL_55cce188b5d34408bbaa9f1ab0cb3ced",
        "IPY_MODEL_4d9e3d03828a4676b2c40bc035a03c2b",
        "IPY_MODEL_7a440348682745c796905134ac237288"
       ],
       "layout": "IPY_MODEL_e72da52003344260a4da2aa8d4ef167c"
      }
     },
     "2126c8331bc44680a85f132cc2394783": {
      "model_module": "@jupyter-widgets/controls",
      "model_module_version": "1.5.0",
      "model_name": "DescriptionStyleModel",
      "state": {
       "description_width": ""
      }
     },
     "284e7ca2897e419ebf94c538864b9f08": {
      "model_module": "@jupyter-widgets/controls",
      "model_module_version": "1.5.0",
      "model_name": "DescriptionStyleModel",
      "state": {
       "description_width": ""
      }
     },
     "2ae53284505345e08efe78b787e4d262": {
      "model_module": "@jupyter-widgets/controls",
      "model_module_version": "1.5.0",
      "model_name": "ButtonModel",
      "state": {
       "icon": "close",
       "layout": "IPY_MODEL_db0e3da1fd6c40678025c7e6a0c23072",
       "style": "IPY_MODEL_a36dfc55913c4c89b9fd6e86e10f8e11"
      }
     },
     "2b4f067c2067475ea6d7679c2d1a9f75": {
      "model_module": "@jupyter-widgets/controls",
      "model_module_version": "1.5.0",
      "model_name": "HTMLModel",
      "state": {
       "layout": "IPY_MODEL_ddc839eb1c1b42c0b7430135287ab02e",
       "style": "IPY_MODEL_1f7a6868a2da4e1c881dbb4d2fc2b9c2",
       "value": "602813b89bd4315c7b5efab4"
      }
     },
     "2c3b4e23a85c4cb6b126d3ea7468d45c": {
      "model_module": "@jupyter-widgets/base",
      "model_module_version": "1.2.0",
      "model_name": "LayoutModel",
      "state": {
       "width": "95px"
      }
     },
     "2d47e6a8aab947e98d64d650d4975299": {
      "model_module": "@jupyter-widgets/base",
      "model_module_version": "1.2.0",
      "model_name": "LayoutModel",
      "state": {
       "max_width": "700px",
       "min_width": "700px"
      }
     },
     "2e593068bc044ec2b7f64f044aa1268b": {
      "model_module": "@jupyter-widgets/base",
      "model_module_version": "1.2.0",
      "model_name": "LayoutModel",
      "state": {
       "width": "95px"
      }
     },
     "2f763e28a6a84cd3afad362082d19ab0": {
      "model_module": "@jupyter-widgets/controls",
      "model_module_version": "1.5.0",
      "model_name": "HTMLModel",
      "state": {
       "layout": "IPY_MODEL_be5c6cdca9304d909d74b16a63ed5d0b",
       "style": "IPY_MODEL_b4eb14e8b5bc4b0c8c7423ab1c7c9cea",
       "value": "-"
      }
     },
     "30e7aba8739145acb7bafc592d8d6a9f": {
      "model_module": "@jupyter-widgets/controls",
      "model_module_version": "1.5.0",
      "model_name": "DescriptionStyleModel",
      "state": {
       "description_width": ""
      }
     },
     "3114c2927d354e9b89d045a8e035ad00": {
      "model_module": "@jupyter-widgets/controls",
      "model_module_version": "1.5.0",
      "model_name": "DescriptionStyleModel",
      "state": {
       "description_width": ""
      }
     },
     "316aa1d1e8274ca2a879f3c386a69fd0": {
      "model_module": "@jupyter-widgets/controls",
      "model_module_version": "1.5.0",
      "model_name": "DescriptionStyleModel",
      "state": {
       "description_width": ""
      }
     },
     "3287dea9598543df933a85f015f45011": {
      "model_module": "@jupyter-widgets/base",
      "model_module_version": "1.2.0",
      "model_name": "LayoutModel",
      "state": {
       "width": "70px"
      }
     },
     "3298518c4d7a46259f7fff537296ed89": {
      "model_module": "@jupyter-widgets/controls",
      "model_module_version": "1.5.0",
      "model_name": "HBoxModel",
      "state": {
       "children": [
        "IPY_MODEL_4e067632223b40b2a84bbad53ae87ccf",
        "IPY_MODEL_d93abf8a6fb046d3a0b7e917661d5178",
        "IPY_MODEL_fd3cdd2361ab4de187cb1b00bdc5620a",
        "IPY_MODEL_d0ebc7e0732f404abe01feeed5f8d474",
        "IPY_MODEL_60b905eeba924620a04379585ca0aa90",
        "IPY_MODEL_f825c6260a9f4d5f85b5ca36bcb041cc"
       ],
       "layout": "IPY_MODEL_7915aa6b84004d05b1e7d2c54482bd92"
      }
     },
     "33aee2bdc7c94b3293d09aab151b44f5": {
      "model_module": "@jupyter-widgets/base",
      "model_module_version": "1.2.0",
      "model_name": "LayoutModel",
      "state": {}
     },
     "369cf4a49ba64a7d909e8da0fa95ff93": {
      "model_module": "@jupyter-widgets/controls",
      "model_module_version": "1.5.0",
      "model_name": "HTMLModel",
      "state": {
       "layout": "IPY_MODEL_5c4d4a8d54e84d1b866272877ed3e99f",
       "style": "IPY_MODEL_c18d25689a884e819237a696ecf391cb",
       "value": "602816f2c65c799d8dbae44e"
      }
     },
     "36ef18e627dc4e6babbf05e30f0545ef": {
      "model_module": "@jupyter-widgets/base",
      "model_module_version": "1.2.0",
      "model_name": "LayoutModel",
      "state": {
       "margin": "0px 5px 0px 0px",
       "width": "32px"
      }
     },
     "3a025187aac2482c83023cb3c7e99f9d": {
      "model_module": "@jupyter-widgets/controls",
      "model_module_version": "1.5.0",
      "model_name": "HTMLModel",
      "state": {
       "layout": "IPY_MODEL_adfaaf58d54c4a9a9314709ec2b60aeb",
       "style": "IPY_MODEL_2126c8331bc44680a85f132cc2394783",
       "value": "ibmq_qasm_simulator"
      }
     },
     "3b41772cf75f4462b18693aeaa1b32c6": {
      "model_module": "@jupyter-widgets/base",
      "model_module_version": "1.2.0",
      "model_name": "LayoutModel",
      "state": {
       "width": "190px"
      }
     },
     "3b4982f000944bf88ca79b82c15075d9": {
      "model_module": "@jupyter-widgets/base",
      "model_module_version": "1.2.0",
      "model_name": "LayoutModel",
      "state": {
       "width": "70px"
      }
     },
     "3cea9947fc7048ea9512d5608d31c19c": {
      "model_module": "@jupyter-widgets/base",
      "model_module_version": "1.2.0",
      "model_name": "LayoutModel",
      "state": {
       "width": "95px"
      }
     },
     "3d76e8fd441743b390cfe18fe2fd6b16": {
      "model_module": "@jupyter-widgets/controls",
      "model_module_version": "1.5.0",
      "model_name": "ButtonModel",
      "state": {
       "icon": "close",
       "layout": "IPY_MODEL_c8af604ac5ab49cfaaab4d05dce5849e",
       "style": "IPY_MODEL_f8070545c3a34c689e8ef9b103b94b05"
      }
     },
     "3e7ebbd732294157ab6619f326a7ba38": {
      "model_module": "@jupyter-widgets/controls",
      "model_module_version": "1.5.0",
      "model_name": "ButtonStyleModel",
      "state": {
       "button_color": "white"
      }
     },
     "3efaa701563a4e669ee335d659e78089": {
      "model_module": "@jupyter-widgets/base",
      "model_module_version": "1.2.0",
      "model_name": "LayoutModel",
      "state": {
       "overflow_x": "scroll"
      }
     },
     "3f60a93ddedb4401972453a566e79502": {
      "model_module": "@jupyter-widgets/controls",
      "model_module_version": "1.5.0",
      "model_name": "HTMLModel",
      "state": {
       "layout": "IPY_MODEL_3b4982f000944bf88ca79b82c15075d9",
       "style": "IPY_MODEL_73933e36076a4c1fb1c0d6cdd290e7c9",
       "value": "-"
      }
     },
     "44fb54a7fc6e4b56867870d285d9d3a4": {
      "model_module": "@jupyter-widgets/controls",
      "model_module_version": "1.5.0",
      "model_name": "HTMLModel",
      "state": {
       "layout": "IPY_MODEL_ddaeb6d3c4b1492aa300bfa5734a7f5f",
       "style": "IPY_MODEL_b76736d4f2584e7e94dd24dbab65ecd2",
       "value": "job has successfully run"
      }
     },
     "4820240480944c73819e480b1e61a1b8": {
      "model_module": "@jupyter-widgets/base",
      "model_module_version": "1.2.0",
      "model_name": "LayoutModel",
      "state": {
       "width": "70px"
      }
     },
     "4c3e114e91a44d7c8df94db61f0e4d7b": {
      "model_module": "@jupyter-widgets/base",
      "model_module_version": "1.2.0",
      "model_name": "LayoutModel",
      "state": {
       "width": "145px"
      }
     },
     "4d90e4fe91b547b48e61c9165366f1be": {
      "model_module": "@jupyter-widgets/base",
      "model_module_version": "1.2.0",
      "model_name": "LayoutModel",
      "state": {
       "width": "95px"
      }
     },
     "4d9e3d03828a4676b2c40bc035a03c2b": {
      "model_module": "@jupyter-widgets/controls",
      "model_module_version": "1.5.0",
      "model_name": "HTMLModel",
      "state": {
       "layout": "IPY_MODEL_4820240480944c73819e480b1e61a1b8",
       "style": "IPY_MODEL_047beb1e465b4d29b19f1ecf5d6e7d2f",
       "value": "-"
      }
     },
     "4df14303812a4411989544d0f6d2acf5": {
      "model_module": "@jupyter-widgets/controls",
      "model_module_version": "1.5.0",
      "model_name": "DescriptionStyleModel",
      "state": {
       "description_width": ""
      }
     },
     "4e067632223b40b2a84bbad53ae87ccf": {
      "model_module": "@jupyter-widgets/controls",
      "model_module_version": "1.5.0",
      "model_name": "ButtonModel",
      "state": {
       "icon": "close",
       "layout": "IPY_MODEL_9be540977f7a4b55ad9799825c8a2a4a",
       "style": "IPY_MODEL_d08c5d53f34940aca2394ee6aa4d20c7"
      }
     },
     "4e8dab8e1adb41078247c2d12d868b60": {
      "model_module": "@jupyter-widgets/controls",
      "model_module_version": "1.5.0",
      "model_name": "DescriptionStyleModel",
      "state": {
       "description_width": ""
      }
     },
     "4fb44ba5030f4378bdb095cc7783a948": {
      "model_module": "@jupyter-widgets/controls",
      "model_module_version": "1.5.0",
      "model_name": "DescriptionStyleModel",
      "state": {
       "description_width": ""
      }
     },
     "535859d8626e4765a0d2fc280e39e565": {
      "model_module": "@jupyter-widgets/controls",
      "model_module_version": "1.5.0",
      "model_name": "HTMLModel",
      "state": {
       "layout": "IPY_MODEL_4d90e4fe91b547b48e61c9165366f1be",
       "style": "IPY_MODEL_69b6150161bd4845bfa19c69d6594afc",
       "value": "<h5>Status</h5>"
      }
     },
     "54d24fed592049cd8c95dc25596f7ef8": {
      "model_module": "@jupyter-widgets/base",
      "model_module_version": "1.2.0",
      "model_name": "LayoutModel",
      "state": {
       "width": "190px"
      }
     },
     "552c887da8d04eb190f328fea6882014": {
      "model_module": "@jupyter-widgets/base",
      "model_module_version": "1.2.0",
      "model_name": "LayoutModel",
      "state": {}
     },
     "55cce188b5d34408bbaa9f1ab0cb3ced": {
      "model_module": "@jupyter-widgets/controls",
      "model_module_version": "1.5.0",
      "model_name": "HTMLModel",
      "state": {
       "layout": "IPY_MODEL_74d1afd95cc044d19177f2cf980365bb",
       "style": "IPY_MODEL_09d5248ba4f7486f890c5df5e383273e",
       "value": "<font style='color:#34BC6E'>DONE</font>"
      }
     },
     "57b712a170c44c9a8e9acbdddab1e7f8": {
      "model_module": "@jupyter-widgets/controls",
      "model_module_version": "1.5.0",
      "model_name": "DescriptionStyleModel",
      "state": {
       "description_width": ""
      }
     },
     "57bb814f012848a098ecf16f80aa20a1": {
      "model_module": "@jupyter-widgets/controls",
      "model_module_version": "1.5.0",
      "model_name": "HTMLModel",
      "state": {
       "layout": "IPY_MODEL_7d405ec3edb74c05b495a5792d06635f",
       "style": "IPY_MODEL_30e7aba8739145acb7bafc592d8d6a9f",
       "value": "-"
      }
     },
     "5c4d4a8d54e84d1b866272877ed3e99f": {
      "model_module": "@jupyter-widgets/base",
      "model_module_version": "1.2.0",
      "model_name": "LayoutModel",
      "state": {
       "width": "190px"
      }
     },
     "5ca371bbaace44efa99665685d6fc2c3": {
      "model_module": "@jupyter-widgets/base",
      "model_module_version": "1.2.0",
      "model_name": "LayoutModel",
      "state": {
       "grid_template_areas": "\n                                       \". . . . right \"\n                                        ",
       "grid_template_columns": "20% 20% 20% 20% 20%",
       "width": "100%"
      }
     },
     "5f49f51e11b74de1bbf7e995a26c6983": {
      "model_module": "@jupyter-widgets/controls",
      "model_module_version": "1.5.0",
      "model_name": "HTMLModel",
      "state": {
       "layout": "IPY_MODEL_71f44f369592463f8f1fca488ab8cb23",
       "style": "IPY_MODEL_6908453dc8be464f95262e627f5abcba",
       "value": "60281251c38371149a2ff896"
      }
     },
     "60b905eeba924620a04379585ca0aa90": {
      "model_module": "@jupyter-widgets/controls",
      "model_module_version": "1.5.0",
      "model_name": "HTMLModel",
      "state": {
       "layout": "IPY_MODEL_81355a1073174ae08d46d9142c522863",
       "style": "IPY_MODEL_ad4dfc74b9034a2799d68f0a56c6febb",
       "value": "-"
      }
     },
     "60d9f89f519c41898c98d9b710d8af65": {
      "model_module": "@jupyter-widgets/controls",
      "model_module_version": "1.5.0",
      "model_name": "HTMLModel",
      "state": {
       "layout": "IPY_MODEL_3b41772cf75f4462b18693aeaa1b32c6",
       "style": "IPY_MODEL_07efe3d267e34cfb9c84b1701c955e4e",
       "value": "60281528b3c67f1eb0f3cdd1"
      }
     },
     "60e99e554b8146979729467ca064cb17": {
      "model_module": "@jupyter-widgets/base",
      "model_module_version": "1.2.0",
      "model_name": "LayoutModel",
      "state": {
       "max_width": "700px",
       "min_width": "700px"
      }
     },
     "6346cdd793534dc18ef678f4da722395": {
      "model_module": "@jupyter-widgets/base",
      "model_module_version": "1.2.0",
      "model_name": "LayoutModel",
      "state": {
       "width": "70px"
      }
     },
     "646e90aedf9643068117c523147c116e": {
      "model_module": "@jupyter-widgets/base",
      "model_module_version": "1.2.0",
      "model_name": "LayoutModel",
      "state": {
       "width": "95px"
      }
     },
     "65d3fda0b2e54f239c07398bc09c888c": {
      "model_module": "@jupyter-widgets/base",
      "model_module_version": "1.2.0",
      "model_name": "LayoutModel",
      "state": {}
     },
     "67de43aafafd4a9ca19f063ce6569237": {
      "model_module": "@quantum/ibm-q-lab-widgets",
      "model_module_version": "^1.0.1",
      "model_name": "CircuitComposerModel",
      "state": {
       "_model_module_version": "^1.0.1",
       "_view_module_version": "^1.0.1",
       "circuit": "\"OPENQASM 2.0;\\ninclude \\\"qelib1.inc\\\";\\n\\nqreg q[2];\\ncreg c[2];\\n\\nx q[0];\\nx q[0];\\nx q[0];\\nh q[0];\\ncx q[0],q[1];\\nmeasure q[0] -> c[0];\\nrx(pi/3) q[0];\\nmeasure q[1] -> c[1];\\nry(pi/5) q[1];\"",
       "editable": true,
       "layout": "IPY_MODEL_33aee2bdc7c94b3293d09aab151b44f5",
       "qiskit_code_cell_index": 4
      }
     },
     "6908453dc8be464f95262e627f5abcba": {
      "model_module": "@jupyter-widgets/controls",
      "model_module_version": "1.5.0",
      "model_name": "DescriptionStyleModel",
      "state": {
       "description_width": ""
      }
     },
     "69b6150161bd4845bfa19c69d6594afc": {
      "model_module": "@jupyter-widgets/controls",
      "model_module_version": "1.5.0",
      "model_name": "DescriptionStyleModel",
      "state": {
       "description_width": ""
      }
     },
     "6ab138ec917f4af98a49b9125171ef69": {
      "model_module": "@jupyter-widgets/controls",
      "model_module_version": "1.5.0",
      "model_name": "DescriptionStyleModel",
      "state": {
       "description_width": ""
      }
     },
     "6c4a4929ebc44fa2bd6f81ee85e58206": {
      "model_module": "@jupyter-widgets/controls",
      "model_module_version": "1.5.0",
      "model_name": "HBoxModel",
      "state": {
       "children": [
        "IPY_MODEL_3d76e8fd441743b390cfe18fe2fd6b16",
        "IPY_MODEL_5f49f51e11b74de1bbf7e995a26c6983",
        "IPY_MODEL_d66f4efc65c24004abc4ddfccd7bb1d5",
        "IPY_MODEL_aee1aac5ff9e4f008d349dcb4f7afd4b",
        "IPY_MODEL_a057518fce2a418d95e441c708ca1eba",
        "IPY_MODEL_d5a542726b604489b03c0866fbcfcd77"
       ],
       "layout": "IPY_MODEL_788f9d36a7cd4782aace98c3fbd9ca36"
      }
     },
     "6d572b949e0443fbba96eb2ad5603a7d": {
      "model_module": "@jupyter-widgets/controls",
      "model_module_version": "1.5.0",
      "model_name": "HTMLModel",
      "state": {
       "layout": "IPY_MODEL_bb4d2f9de1a14e4ab393cce2de376d4f",
       "style": "IPY_MODEL_4df14303812a4411989544d0f6d2acf5",
       "value": "<font style='color:#34BC6E'>DONE</font>"
      }
     },
     "6db460b13a0048c9b26c02470ef6ce15": {
      "model_module": "@jupyter-widgets/base",
      "model_module_version": "1.2.0",
      "model_name": "LayoutModel",
      "state": {
       "width": "145px"
      }
     },
     "6eaa53b8ac204434867a11fbdf40a8a1": {
      "model_module": "@jupyter-widgets/base",
      "model_module_version": "1.2.0",
      "model_name": "LayoutModel",
      "state": {
       "margin": "0px 5px 0px 0px",
       "width": "32px"
      }
     },
     "6f0b41abb05c4d0fb484406f010bb7d7": {
      "model_module": "@jupyter-widgets/base",
      "model_module_version": "1.2.0",
      "model_name": "LayoutModel",
      "state": {
       "overflow_x": "scroll"
      }
     },
     "71f44f369592463f8f1fca488ab8cb23": {
      "model_module": "@jupyter-widgets/base",
      "model_module_version": "1.2.0",
      "model_name": "LayoutModel",
      "state": {
       "width": "190px"
      }
     },
     "728aec21b64e477799bdde3805c2c385": {
      "model_module": "@jupyter-widgets/controls",
      "model_module_version": "1.5.0",
      "model_name": "ButtonModel",
      "state": {
       "button_style": "primary",
       "description": "Clear",
       "layout": "IPY_MODEL_aba71e99771f4121982b139b6067a453",
       "style": "IPY_MODEL_b6e110ce953c4809b663d5a093d9638f"
      }
     },
     "73933e36076a4c1fb1c0d6cdd290e7c9": {
      "model_module": "@jupyter-widgets/controls",
      "model_module_version": "1.5.0",
      "model_name": "DescriptionStyleModel",
      "state": {
       "description_width": ""
      }
     },
     "742f0597992943f1afb9db32fbcac89f": {
      "model_module": "@jupyter-widgets/base",
      "model_module_version": "1.2.0",
      "model_name": "LayoutModel",
      "state": {
       "width": "190px"
      }
     },
     "74d1afd95cc044d19177f2cf980365bb": {
      "model_module": "@jupyter-widgets/base",
      "model_module_version": "1.2.0",
      "model_name": "LayoutModel",
      "state": {
       "width": "95px"
      }
     },
     "76b67da656fc426e99c1783ba390db22": {
      "model_module": "@jupyter-widgets/base",
      "model_module_version": "1.2.0",
      "model_name": "LayoutModel",
      "state": {
       "width": "190px"
      }
     },
     "76c41f4ebabf42609d40fb79abda77d3": {
      "model_module": "@jupyter-widgets/base",
      "model_module_version": "1.2.0",
      "model_name": "LayoutModel",
      "state": {
       "overflow_x": "scroll"
      }
     },
     "7860594139954c418fa8fd26244b924f": {
      "model_module": "@jupyter-widgets/base",
      "model_module_version": "1.2.0",
      "model_name": "LayoutModel",
      "state": {
       "width": "145px"
      }
     },
     "788f9d36a7cd4782aace98c3fbd9ca36": {
      "model_module": "@jupyter-widgets/base",
      "model_module_version": "1.2.0",
      "model_name": "LayoutModel",
      "state": {
       "max_width": "700px",
       "min_width": "700px"
      }
     },
     "78eaa3345b534cb6a46bff65289d012c": {
      "model_module": "@jupyter-widgets/controls",
      "model_module_version": "1.5.0",
      "model_name": "HTMLModel",
      "state": {
       "layout": "IPY_MODEL_c86c258210d145319116be6c25a77f30",
       "style": "IPY_MODEL_a2755a0242b1489f9ffd681978ee534a",
       "value": "<font style='color:#34BC6E'>DONE</font>"
      }
     },
     "7915aa6b84004d05b1e7d2c54482bd92": {
      "model_module": "@jupyter-widgets/base",
      "model_module_version": "1.2.0",
      "model_name": "LayoutModel",
      "state": {
       "max_width": "700px",
       "min_width": "700px"
      }
     },
     "79a86611df25416fbcbde11450cbc422": {
      "model_module": "@jupyter-widgets/controls",
      "model_module_version": "1.5.0",
      "model_name": "ButtonModel",
      "state": {
       "icon": "close",
       "layout": "IPY_MODEL_a10455b9b3234da48c503625293bcd6a",
       "style": "IPY_MODEL_f379cba944ac46a7b5ed8a4823b55deb"
      }
     },
     "7a440348682745c796905134ac237288": {
      "model_module": "@jupyter-widgets/controls",
      "model_module_version": "1.5.0",
      "model_name": "HTMLModel",
      "state": {
       "layout": "IPY_MODEL_89d50a47db224657bbb81055515060b2",
       "style": "IPY_MODEL_8087c809e5b64cb3b297da3ae46047b3",
       "value": "job has successfully run"
      }
     },
     "7b588c0eef8542cb9457e08b18dba59a": {
      "model_module": "@jupyter-widgets/base",
      "model_module_version": "1.2.0",
      "model_name": "LayoutModel",
      "state": {
       "margin": "0px 0px 10px 0px"
      }
     },
     "7ba67460ac5e4af29204bc5a682982ba": {
      "model_module": "@jupyter-widgets/base",
      "model_module_version": "1.2.0",
      "model_name": "LayoutModel",
      "state": {
       "width": "95px"
      }
     },
     "7d405ec3edb74c05b495a5792d06635f": {
      "model_module": "@jupyter-widgets/base",
      "model_module_version": "1.2.0",
      "model_name": "LayoutModel",
      "state": {
       "width": "70px"
      }
     },
     "7e58cc51c8084ca9b81158c6bba114da": {
      "model_module": "@jupyter-widgets/controls",
      "model_module_version": "1.5.0",
      "model_name": "DescriptionStyleModel",
      "state": {
       "description_width": ""
      }
     },
     "7f0e32f51c3f4540b8a3a1c8fafc96d5": {
      "model_module": "@jupyter-widgets/controls",
      "model_module_version": "1.5.0",
      "model_name": "DescriptionStyleModel",
      "state": {
       "description_width": ""
      }
     },
     "800997cf284044daa010c34a5acc6889": {
      "model_module": "@jupyter-widgets/controls",
      "model_module_version": "1.5.0",
      "model_name": "DescriptionStyleModel",
      "state": {
       "description_width": ""
      }
     },
     "8087c809e5b64cb3b297da3ae46047b3": {
      "model_module": "@jupyter-widgets/controls",
      "model_module_version": "1.5.0",
      "model_name": "DescriptionStyleModel",
      "state": {
       "description_width": ""
      }
     },
     "81355a1073174ae08d46d9142c522863": {
      "model_module": "@jupyter-widgets/base",
      "model_module_version": "1.2.0",
      "model_name": "LayoutModel",
      "state": {
       "width": "70px"
      }
     },
     "81b6b350b2274ff29cdff592f4251c85": {
      "model_module": "@jupyter-widgets/controls",
      "model_module_version": "1.5.0",
      "model_name": "DescriptionStyleModel",
      "state": {
       "description_width": ""
      }
     },
     "84d7d2f0e8e040999cb3eac2e070803e": {
      "model_module": "@jupyter-widgets/controls",
      "model_module_version": "1.5.0",
      "model_name": "DescriptionStyleModel",
      "state": {
       "description_width": ""
      }
     },
     "87b2487724734b4b8db3374cd521c4b7": {
      "model_module": "@jupyter-widgets/controls",
      "model_module_version": "1.5.0",
      "model_name": "DescriptionStyleModel",
      "state": {
       "description_width": ""
      }
     },
     "87bc1a75a7ce47cba21db30e1ac042c0": {
      "model_module": "@jupyter-widgets/base",
      "model_module_version": "1.2.0",
      "model_name": "LayoutModel",
      "state": {
       "width": "190px"
      }
     },
     "89d50a47db224657bbb81055515060b2": {
      "model_module": "@jupyter-widgets/base",
      "model_module_version": "1.2.0",
      "model_name": "LayoutModel",
      "state": {
       "overflow_x": "scroll"
      }
     },
     "8a3f25029c304eb6a0b4d295fc7409e6": {
      "model_module": "@jupyter-widgets/base",
      "model_module_version": "1.2.0",
      "model_name": "LayoutModel",
      "state": {
       "width": "190px"
      }
     },
     "8bc0aa81d6e240d2bdc8d6481507be68": {
      "model_module": "@jupyter-widgets/controls",
      "model_module_version": "1.5.0",
      "model_name": "DescriptionStyleModel",
      "state": {
       "description_width": ""
      }
     },
     "8c4b30685f944e34bd2222c11875965e": {
      "model_module": "@jupyter-widgets/controls",
      "model_module_version": "1.5.0",
      "model_name": "ButtonStyleModel",
      "state": {
       "button_color": "white"
      }
     },
     "8d92bdab783f42b09fa4cbe231635f54": {
      "model_module": "@jupyter-widgets/controls",
      "model_module_version": "1.5.0",
      "model_name": "DescriptionStyleModel",
      "state": {
       "description_width": ""
      }
     },
     "8daa4cf17d9146f4a635d483ed4e8262": {
      "model_module": "@jupyter-widgets/base",
      "model_module_version": "1.2.0",
      "model_name": "LayoutModel",
      "state": {}
     },
     "8f2c5b5ed71244178d0cddd7a0e9522b": {
      "model_module": "@jupyter-widgets/controls",
      "model_module_version": "1.5.0",
      "model_name": "HTMLModel",
      "state": {
       "layout": "IPY_MODEL_65d3fda0b2e54f239c07398bc09c888c",
       "style": "IPY_MODEL_fc6c614cf52f4e4fab022a612610fc53",
       "value": "<h5>Message</h5>"
      }
     },
     "8f694d43b3054eb0988a879b372c2870": {
      "model_module": "@jupyter-widgets/controls",
      "model_module_version": "1.5.0",
      "model_name": "DescriptionStyleModel",
      "state": {
       "description_width": ""
      }
     },
     "8f895d45ce7d45b4bfc405c0d312252c": {
      "model_module": "@jupyter-widgets/controls",
      "model_module_version": "1.5.0",
      "model_name": "HTMLModel",
      "state": {
       "layout": "IPY_MODEL_de2102ba031245369e187220c4efa8b6",
       "style": "IPY_MODEL_87b2487724734b4b8db3374cd521c4b7",
       "value": "ibmq_qasm_simulator"
      }
     },
     "8fb87d293836456c9274b2bbb47118e7": {
      "model_module": "@jupyter-widgets/base",
      "model_module_version": "1.2.0",
      "model_name": "LayoutModel",
      "state": {}
     },
     "917a120a7b52459085fbb3d9706b3c11": {
      "model_module": "@jupyter-widgets/base",
      "model_module_version": "1.2.0",
      "model_name": "LayoutModel",
      "state": {
       "margin": "0px 5px 0px 0px",
       "width": "32px"
      }
     },
     "92329e908ba34f9d8f0593c605c4c748": {
      "model_module": "@jupyter-widgets/base",
      "model_module_version": "1.2.0",
      "model_name": "LayoutModel",
      "state": {
       "width": "145px"
      }
     },
     "93fbcacfbc9f4c66a2927f9f1e820cde": {
      "model_module": "@jupyter-widgets/base",
      "model_module_version": "1.2.0",
      "model_name": "LayoutModel",
      "state": {
       "max_width": "700px",
       "min_width": "700px"
      }
     },
     "9751b2bde21b4a1486ef8d2feb3bb625": {
      "model_module": "@quantum/ibm-q-lab-widgets",
      "model_module_version": "^1.0.1",
      "model_name": "CircuitComposerModel",
      "state": {
       "_model_module_version": "^1.0.1",
       "_view_module_version": "^1.0.1",
       "circuit": "\"OPENQASM 2.0;\\ninclude \\\"qelib1.inc\\\";\\n\\nqreg q[2];\\ncreg c[2];\\n\\nx q[0];\\nx q[0];\\nx q[0];\\nh q[0];\\ncx q[0],q[1];\\nmeasure q[0] -> c[0];\\nrx(pi/3) q[0];\\nmeasure q[1] -> c[1];\\nry(pi/5) q[1];\"",
       "editable": true,
       "layout": "IPY_MODEL_8daa4cf17d9146f4a635d483ed4e8262",
       "qiskit_code_cell_index": -1
      }
     },
     "99ac078866684b63abc1cea924b16c02": {
      "model_module": "@jupyter-widgets/controls",
      "model_module_version": "1.5.0",
      "model_name": "DescriptionStyleModel",
      "state": {
       "description_width": ""
      }
     },
     "9be540977f7a4b55ad9799825c8a2a4a": {
      "model_module": "@jupyter-widgets/base",
      "model_module_version": "1.2.0",
      "model_name": "LayoutModel",
      "state": {
       "margin": "0px 5px 0px 0px",
       "width": "32px"
      }
     },
     "9d1829bd1e6c47be8466e316d210bd2f": {
      "model_module": "@jupyter-widgets/base",
      "model_module_version": "1.2.0",
      "model_name": "LayoutModel",
      "state": {
       "width": "70px"
      }
     },
     "a057518fce2a418d95e441c708ca1eba": {
      "model_module": "@jupyter-widgets/controls",
      "model_module_version": "1.5.0",
      "model_name": "HTMLModel",
      "state": {
       "layout": "IPY_MODEL_0caa9d1dc97b45ad8b6c8c7401781976",
       "style": "IPY_MODEL_800997cf284044daa010c34a5acc6889",
       "value": "-"
      }
     },
     "a0c1251a79224765be829c711efb7392": {
      "model_module": "@jupyter-widgets/controls",
      "model_module_version": "1.5.0",
      "model_name": "HTMLModel",
      "state": {
       "layout": "IPY_MODEL_e1d8f9b1d44f456ab16aabd3bd9e0180",
       "style": "IPY_MODEL_e9820c79388b4925acb02b27ff56fa42",
       "value": "ibmq_qasm_simulator"
      }
     },
     "a10455b9b3234da48c503625293bcd6a": {
      "model_module": "@jupyter-widgets/base",
      "model_module_version": "1.2.0",
      "model_name": "LayoutModel",
      "state": {
       "margin": "0px 5px 0px 0px",
       "width": "32px"
      }
     },
     "a183e932aca741e1893b93c227e787c8": {
      "model_module": "@jupyter-widgets/controls",
      "model_module_version": "1.5.0",
      "model_name": "HTMLModel",
      "state": {
       "layout": "IPY_MODEL_3efaa701563a4e669ee335d659e78089",
       "style": "IPY_MODEL_6ab138ec917f4af98a49b9125171ef69",
       "value": "job has successfully run"
      }
     },
     "a19c235cb64a497c861e7bd16389eb31": {
      "model_module": "@jupyter-widgets/controls",
      "model_module_version": "1.5.0",
      "model_name": "HTMLModel",
      "state": {
       "layout": "IPY_MODEL_1cca535811894ae7b2ae321082a1cb1a",
       "style": "IPY_MODEL_84d7d2f0e8e040999cb3eac2e070803e",
       "value": "job has successfully run"
      }
     },
     "a2755a0242b1489f9ffd681978ee534a": {
      "model_module": "@jupyter-widgets/controls",
      "model_module_version": "1.5.0",
      "model_name": "DescriptionStyleModel",
      "state": {
       "description_width": ""
      }
     },
     "a36dfc55913c4c89b9fd6e86e10f8e11": {
      "model_module": "@jupyter-widgets/controls",
      "model_module_version": "1.5.0",
      "model_name": "ButtonStyleModel",
      "state": {
       "button_color": "white"
      }
     },
     "a5cae829eb6c4c7f96e8d67584d32df6": {
      "model_module": "@jupyter-widgets/controls",
      "model_module_version": "1.5.0",
      "model_name": "ButtonModel",
      "state": {
       "icon": "close",
       "layout": "IPY_MODEL_36ef18e627dc4e6babbf05e30f0545ef",
       "style": "IPY_MODEL_acaf3254e02e4d488afea3aab25f06ff"
      }
     },
     "aba71e99771f4121982b139b6067a453": {
      "model_module": "@jupyter-widgets/base",
      "model_module_version": "1.2.0",
      "model_name": "LayoutModel",
      "state": {
       "grid_area": "right",
       "padding": "0px 0px 0px 0px",
       "width": "70px"
      }
     },
     "acaf3254e02e4d488afea3aab25f06ff": {
      "model_module": "@jupyter-widgets/controls",
      "model_module_version": "1.5.0",
      "model_name": "ButtonStyleModel",
      "state": {
       "button_color": "white"
      }
     },
     "ad4dfc74b9034a2799d68f0a56c6febb": {
      "model_module": "@jupyter-widgets/controls",
      "model_module_version": "1.5.0",
      "model_name": "DescriptionStyleModel",
      "state": {
       "description_width": ""
      }
     },
     "adfaaf58d54c4a9a9314709ec2b60aeb": {
      "model_module": "@jupyter-widgets/base",
      "model_module_version": "1.2.0",
      "model_name": "LayoutModel",
      "state": {
       "width": "145px"
      }
     },
     "aec929ce65054a2ca1817cab83702b59": {
      "model_module": "@jupyter-widgets/controls",
      "model_module_version": "1.5.0",
      "model_name": "HBoxModel",
      "state": {
       "children": [
        "IPY_MODEL_f8d68ff0c75444b9899a9fd1d5e02fe9",
        "IPY_MODEL_0334d534ca4f42d189f86e1aa8976a66",
        "IPY_MODEL_189c970ab84b4f06bdd61da987876311",
        "IPY_MODEL_e74da6c8bca14d448df68fae4f8651eb",
        "IPY_MODEL_3f60a93ddedb4401972453a566e79502",
        "IPY_MODEL_a19c235cb64a497c861e7bd16389eb31"
       ],
       "layout": "IPY_MODEL_60e99e554b8146979729467ca064cb17"
      }
     },
     "aee1aac5ff9e4f008d349dcb4f7afd4b": {
      "model_module": "@jupyter-widgets/controls",
      "model_module_version": "1.5.0",
      "model_name": "HTMLModel",
      "state": {
       "layout": "IPY_MODEL_3cea9947fc7048ea9512d5608d31c19c",
       "style": "IPY_MODEL_57b712a170c44c9a8e9acbdddab1e7f8",
       "value": "<font style='color:#34BC6E'>DONE</font>"
      }
     },
     "b10c33d2f323486981ac284c5c4ff925": {
      "model_module": "@jupyter-widgets/controls",
      "model_module_version": "1.5.0",
      "model_name": "DescriptionStyleModel",
      "state": {
       "description_width": ""
      }
     },
     "b20bf331b9724af781835fc0c0639e0d": {
      "model_module": "@jupyter-widgets/base",
      "model_module_version": "1.2.0",
      "model_name": "LayoutModel",
      "state": {
       "max_width": "700px",
       "min_width": "700px"
      }
     },
     "b22622b7a6084ebe9c8fcccf7a060e83": {
      "model_module": "@jupyter-widgets/controls",
      "model_module_version": "1.5.0",
      "model_name": "ButtonModel",
      "state": {
       "icon": "close",
       "layout": "IPY_MODEL_10f5b170397d458fbcdcbf762ac1e74c",
       "style": "IPY_MODEL_8c4b30685f944e34bd2222c11875965e"
      }
     },
     "b24e49c5af284a08bbbf4c988a271d06": {
      "model_module": "@jupyter-widgets/base",
      "model_module_version": "1.2.0",
      "model_name": "LayoutModel",
      "state": {
       "margin": "0px 0px 0px 37px",
       "width": "600px"
      }
     },
     "b4eb14e8b5bc4b0c8c7423ab1c7c9cea": {
      "model_module": "@jupyter-widgets/controls",
      "model_module_version": "1.5.0",
      "model_name": "DescriptionStyleModel",
      "state": {
       "description_width": ""
      }
     },
     "b6e110ce953c4809b663d5a093d9638f": {
      "model_module": "@jupyter-widgets/controls",
      "model_module_version": "1.5.0",
      "model_name": "ButtonStyleModel",
      "state": {}
     },
     "b76736d4f2584e7e94dd24dbab65ecd2": {
      "model_module": "@jupyter-widgets/controls",
      "model_module_version": "1.5.0",
      "model_name": "DescriptionStyleModel",
      "state": {
       "description_width": ""
      }
     },
     "b95df39f9aa0455681dbe1a2e194c2af": {
      "model_module": "@jupyter-widgets/controls",
      "model_module_version": "1.5.0",
      "model_name": "DescriptionStyleModel",
      "state": {
       "description_width": ""
      }
     },
     "bb4d2f9de1a14e4ab393cce2de376d4f": {
      "model_module": "@jupyter-widgets/base",
      "model_module_version": "1.2.0",
      "model_name": "LayoutModel",
      "state": {
       "width": "95px"
      }
     },
     "bd161ced715b47399b3e160a5775b79f": {
      "model_module": "@jupyter-widgets/controls",
      "model_module_version": "1.5.0",
      "model_name": "ButtonStyleModel",
      "state": {
       "button_color": "white"
      }
     },
     "be5c6cdca9304d909d74b16a63ed5d0b": {
      "model_module": "@jupyter-widgets/base",
      "model_module_version": "1.2.0",
      "model_name": "LayoutModel",
      "state": {
       "width": "70px"
      }
     },
     "c18d25689a884e819237a696ecf391cb": {
      "model_module": "@jupyter-widgets/controls",
      "model_module_version": "1.5.0",
      "model_name": "DescriptionStyleModel",
      "state": {
       "description_width": ""
      }
     },
     "c1a564ce00c24d89b4fe466699f4e36d": {
      "model_module": "@jupyter-widgets/controls",
      "model_module_version": "1.5.0",
      "model_name": "HTMLModel",
      "state": {
       "layout": "IPY_MODEL_e2e0162a2103495fabb2e9bea444df03",
       "style": "IPY_MODEL_4e8dab8e1adb41078247c2d12d868b60",
       "value": "ibmq_qasm_simulator"
      }
     },
     "c49840b2960d416eb2ac759cbda93f91": {
      "model_module": "@jupyter-widgets/controls",
      "model_module_version": "1.5.0",
      "model_name": "DescriptionStyleModel",
      "state": {
       "description_width": ""
      }
     },
     "c68e4e4c48b04aa1a24840897172ac21": {
      "model_module": "@jupyter-widgets/controls",
      "model_module_version": "1.5.0",
      "model_name": "HTMLModel",
      "state": {
       "layout": "IPY_MODEL_9d1829bd1e6c47be8466e316d210bd2f",
       "style": "IPY_MODEL_99ac078866684b63abc1cea924b16c02",
       "value": "<h5>Queue</h5>"
      }
     },
     "c86c258210d145319116be6c25a77f30": {
      "model_module": "@jupyter-widgets/base",
      "model_module_version": "1.2.0",
      "model_name": "LayoutModel",
      "state": {
       "width": "95px"
      }
     },
     "c8af604ac5ab49cfaaab4d05dce5849e": {
      "model_module": "@jupyter-widgets/base",
      "model_module_version": "1.2.0",
      "model_name": "LayoutModel",
      "state": {
       "margin": "0px 5px 0px 0px",
       "width": "32px"
      }
     },
     "cc2710e58a3245c4b34fa0f95342a0b9": {
      "model_module": "@jupyter-widgets/controls",
      "model_module_version": "1.5.0",
      "model_name": "HTMLModel",
      "state": {
       "layout": "IPY_MODEL_54d24fed592049cd8c95dc25596f7ef8",
       "style": "IPY_MODEL_03be78113a114be99bc3f0d5f58179b0",
       "value": "<h5>Job ID</h5>"
      }
     },
     "cf271a4cee60477aade5ae39a38ba268": {
      "model_module": "@jupyter-widgets/controls",
      "model_module_version": "1.5.0",
      "model_name": "HTMLModel",
      "state": {
       "layout": "IPY_MODEL_3287dea9598543df933a85f015f45011",
       "style": "IPY_MODEL_d8a1169b803a40f09157892e0173a0c1",
       "value": "-"
      }
     },
     "d08c5d53f34940aca2394ee6aa4d20c7": {
      "model_module": "@jupyter-widgets/controls",
      "model_module_version": "1.5.0",
      "model_name": "ButtonStyleModel",
      "state": {
       "button_color": "white"
      }
     },
     "d0ebc7e0732f404abe01feeed5f8d474": {
      "model_module": "@jupyter-widgets/controls",
      "model_module_version": "1.5.0",
      "model_name": "HTMLModel",
      "state": {
       "layout": "IPY_MODEL_646e90aedf9643068117c523147c116e",
       "style": "IPY_MODEL_8d92bdab783f42b09fa4cbe231635f54",
       "value": "<font style='color:#34BC6E'>DONE</font>"
      }
     },
     "d0f1035798134d498e7900960c21e7e1": {
      "model_module": "@jupyter-widgets/controls",
      "model_module_version": "1.5.0",
      "model_name": "HBoxModel",
      "state": {
       "children": [
        "IPY_MODEL_a5cae829eb6c4c7f96e8d67584d32df6",
        "IPY_MODEL_60d9f89f519c41898c98d9b710d8af65",
        "IPY_MODEL_a0c1251a79224765be829c711efb7392",
        "IPY_MODEL_6d572b949e0443fbba96eb2ad5603a7d",
        "IPY_MODEL_2f763e28a6a84cd3afad362082d19ab0",
        "IPY_MODEL_1d4888d51eeb430c9b9403d207b54c8b"
       ],
       "layout": "IPY_MODEL_edbe746a74a2462298544395ef48e6ca"
      }
     },
     "d1bc7859bb4f4ba1b9badedc82b4a6be": {
      "model_module": "@jupyter-widgets/controls",
      "model_module_version": "1.5.0",
      "model_name": "HTMLModel",
      "state": {
       "layout": "IPY_MODEL_2e593068bc044ec2b7f64f044aa1268b",
       "style": "IPY_MODEL_b95df39f9aa0455681dbe1a2e194c2af",
       "value": "<font style='color:#34BC6E'>DONE</font>"
      }
     },
     "d2603ab92aad4a958abd2d4fd95b84ad": {
      "model_module": "@jupyter-widgets/controls",
      "model_module_version": "1.5.0",
      "model_name": "HTMLModel",
      "state": {
       "layout": "IPY_MODEL_76c41f4ebabf42609d40fb79abda77d3",
       "style": "IPY_MODEL_db8ce660b2564706810c9230e7a5053f",
       "value": "job has successfully run"
      }
     },
     "d3137d40123d4c1591f90b51c29d0d78": {
      "model_module": "@jupyter-widgets/controls",
      "model_module_version": "1.5.0",
      "model_name": "HBoxModel",
      "state": {
       "children": [
        "IPY_MODEL_2ae53284505345e08efe78b787e4d262",
        "IPY_MODEL_fb39fd0e74ab4f8b9d2edc96733ad1ec",
        "IPY_MODEL_8f895d45ce7d45b4bfc405c0d312252c",
        "IPY_MODEL_d1bc7859bb4f4ba1b9badedc82b4a6be",
        "IPY_MODEL_cf271a4cee60477aade5ae39a38ba268",
        "IPY_MODEL_a183e932aca741e1893b93c227e787c8"
       ],
       "layout": "IPY_MODEL_b20bf331b9724af781835fc0c0639e0d"
      }
     },
     "d5a542726b604489b03c0866fbcfcd77": {
      "model_module": "@jupyter-widgets/controls",
      "model_module_version": "1.5.0",
      "model_name": "HTMLModel",
      "state": {
       "layout": "IPY_MODEL_6f0b41abb05c4d0fb484406f010bb7d7",
       "style": "IPY_MODEL_f206f7e851bc4d6380ddc1fd868ca4b0",
       "value": "job has successfully run"
      }
     },
     "d66f4efc65c24004abc4ddfccd7bb1d5": {
      "model_module": "@jupyter-widgets/controls",
      "model_module_version": "1.5.0",
      "model_name": "HTMLModel",
      "state": {
       "layout": "IPY_MODEL_7860594139954c418fa8fd26244b924f",
       "style": "IPY_MODEL_81b6b350b2274ff29cdff592f4251c85",
       "value": "ibmq_qasm_simulator"
      }
     },
     "d8a1169b803a40f09157892e0173a0c1": {
      "model_module": "@jupyter-widgets/controls",
      "model_module_version": "1.5.0",
      "model_name": "DescriptionStyleModel",
      "state": {
       "description_width": ""
      }
     },
     "d93abf8a6fb046d3a0b7e917661d5178": {
      "model_module": "@jupyter-widgets/controls",
      "model_module_version": "1.5.0",
      "model_name": "HTMLModel",
      "state": {
       "layout": "IPY_MODEL_742f0597992943f1afb9db32fbcac89f",
       "style": "IPY_MODEL_d9d5b4a8d4854e699e7df378b9dca027",
       "value": "60281458c3837181102ff8a7"
      }
     },
     "d9d5b4a8d4854e699e7df378b9dca027": {
      "model_module": "@jupyter-widgets/controls",
      "model_module_version": "1.5.0",
      "model_name": "DescriptionStyleModel",
      "state": {
       "description_width": ""
      }
     },
     "db0e3da1fd6c40678025c7e6a0c23072": {
      "model_module": "@jupyter-widgets/base",
      "model_module_version": "1.2.0",
      "model_name": "LayoutModel",
      "state": {
       "margin": "0px 5px 0px 0px",
       "width": "32px"
      }
     },
     "db8ce660b2564706810c9230e7a5053f": {
      "model_module": "@jupyter-widgets/controls",
      "model_module_version": "1.5.0",
      "model_name": "DescriptionStyleModel",
      "state": {
       "description_width": ""
      }
     },
     "ddaeb6d3c4b1492aa300bfa5734a7f5f": {
      "model_module": "@jupyter-widgets/base",
      "model_module_version": "1.2.0",
      "model_name": "LayoutModel",
      "state": {
       "overflow_x": "scroll"
      }
     },
     "ddc839eb1c1b42c0b7430135287ab02e": {
      "model_module": "@jupyter-widgets/base",
      "model_module_version": "1.2.0",
      "model_name": "LayoutModel",
      "state": {
       "width": "190px"
      }
     },
     "dddab0ebce974d1f8338c39d2a37f2b7": {
      "model_module": "@jupyter-widgets/base",
      "model_module_version": "1.2.0",
      "model_name": "LayoutModel",
      "state": {
       "width": "145px"
      }
     },
     "de2102ba031245369e187220c4efa8b6": {
      "model_module": "@jupyter-widgets/base",
      "model_module_version": "1.2.0",
      "model_name": "LayoutModel",
      "state": {
       "width": "145px"
      }
     },
     "e1d8f9b1d44f456ab16aabd3bd9e0180": {
      "model_module": "@jupyter-widgets/base",
      "model_module_version": "1.2.0",
      "model_name": "LayoutModel",
      "state": {
       "width": "145px"
      }
     },
     "e255a648f614410dac55406d430c3342": {
      "model_module": "@quantum/ibm-q-lab-widgets",
      "model_module_version": "^1.0.1",
      "model_name": "CircuitComposerModel",
      "state": {
       "_model_module_version": "^1.0.1",
       "_view_module_version": "^1.0.1",
       "circuit": "\"OPENQASM 2.0;\\ninclude \\\"qelib1.inc\\\";\\n\\nqreg q[2];\\ncreg c[2];\\n\\nx q[0];\\nx q[0];\\nx q[0];\\nh q[0];\\ncx q[0],q[1];\\nmeasure q[0] -> c[0];\\nrx(pi/3) q[0];\\nmeasure q[1] -> c[1];\\nry(pi/5) q[1];\"",
       "editable": true,
       "layout": "IPY_MODEL_552c887da8d04eb190f328fea6882014",
       "qiskit_code_cell_index": 3
      }
     },
     "e2e0162a2103495fabb2e9bea444df03": {
      "model_module": "@jupyter-widgets/base",
      "model_module_version": "1.2.0",
      "model_name": "LayoutModel",
      "state": {
       "width": "145px"
      }
     },
     "e3d0229762b746439eea824c3e103004": {
      "model_module": "@jupyter-widgets/base",
      "model_module_version": "1.2.0",
      "model_name": "LayoutModel",
      "state": {
       "overflow_x": "scroll"
      }
     },
     "e3feac3ba2ee42f7aadde7873b6808cc": {
      "model_module": "@jupyter-widgets/base",
      "model_module_version": "1.2.0",
      "model_name": "LayoutModel",
      "state": {
       "overflow_x": "scroll"
      }
     },
     "e72da52003344260a4da2aa8d4ef167c": {
      "model_module": "@jupyter-widgets/base",
      "model_module_version": "1.2.0",
      "model_name": "LayoutModel",
      "state": {
       "max_width": "700px",
       "min_width": "700px"
      }
     },
     "e74da6c8bca14d448df68fae4f8651eb": {
      "model_module": "@jupyter-widgets/controls",
      "model_module_version": "1.5.0",
      "model_name": "HTMLModel",
      "state": {
       "layout": "IPY_MODEL_7ba67460ac5e4af29204bc5a682982ba",
       "style": "IPY_MODEL_3114c2927d354e9b89d045a8e035ad00",
       "value": "<font style='color:#34BC6E'>DONE</font>"
      }
     },
     "e9820c79388b4925acb02b27ff56fa42": {
      "model_module": "@jupyter-widgets/controls",
      "model_module_version": "1.5.0",
      "model_name": "DescriptionStyleModel",
      "state": {
       "description_width": ""
      }
     },
     "edbe746a74a2462298544395ef48e6ca": {
      "model_module": "@jupyter-widgets/base",
      "model_module_version": "1.2.0",
      "model_name": "LayoutModel",
      "state": {
       "max_width": "700px",
       "min_width": "700px"
      }
     },
     "f206f7e851bc4d6380ddc1fd868ca4b0": {
      "model_module": "@jupyter-widgets/controls",
      "model_module_version": "1.5.0",
      "model_name": "DescriptionStyleModel",
      "state": {
       "description_width": ""
      }
     },
     "f270ec459fa74c1b86aa570ed11de10f": {
      "model_module": "@jupyter-widgets/controls",
      "model_module_version": "1.5.0",
      "model_name": "HTMLModel",
      "state": {
       "layout": "IPY_MODEL_2c3b4e23a85c4cb6b126d3ea7468d45c",
       "style": "IPY_MODEL_c49840b2960d416eb2ac759cbda93f91",
       "value": "<font style='color:#34BC6E'>DONE</font>"
      }
     },
     "f2ee63c13e464a0d94ad5213f19e9637": {
      "model_module": "@jupyter-widgets/controls",
      "model_module_version": "1.5.0",
      "model_name": "HTMLModel",
      "state": {
       "layout": "IPY_MODEL_8a3f25029c304eb6a0b4d295fc7409e6",
       "style": "IPY_MODEL_4fb44ba5030f4378bdb095cc7783a948",
       "value": "6028169febfc833ea9c00f60"
      }
     },
     "f379cba944ac46a7b5ed8a4823b55deb": {
      "model_module": "@jupyter-widgets/controls",
      "model_module_version": "1.5.0",
      "model_name": "ButtonStyleModel",
      "state": {
       "button_color": "white"
      }
     },
     "f8070545c3a34c689e8ef9b103b94b05": {
      "model_module": "@jupyter-widgets/controls",
      "model_module_version": "1.5.0",
      "model_name": "ButtonStyleModel",
      "state": {
       "button_color": "white"
      }
     },
     "f814d3530b11463d849e3cdaa3b52fea": {
      "model_module": "@jupyter-widgets/controls",
      "model_module_version": "1.5.0",
      "model_name": "HTMLModel",
      "state": {
       "layout": "IPY_MODEL_dddab0ebce974d1f8338c39d2a37f2b7",
       "style": "IPY_MODEL_1d897310de994adb92f3e7946ba548d9",
       "value": "<h5>Backend</h5>"
      }
     },
     "f825c6260a9f4d5f85b5ca36bcb041cc": {
      "model_module": "@jupyter-widgets/controls",
      "model_module_version": "1.5.0",
      "model_name": "HTMLModel",
      "state": {
       "layout": "IPY_MODEL_e3feac3ba2ee42f7aadde7873b6808cc",
       "style": "IPY_MODEL_284e7ca2897e419ebf94c538864b9f08",
       "value": "job has successfully run"
      }
     },
     "f8d68ff0c75444b9899a9fd1d5e02fe9": {
      "model_module": "@jupyter-widgets/controls",
      "model_module_version": "1.5.0",
      "model_name": "ButtonModel",
      "state": {
       "icon": "close",
       "layout": "IPY_MODEL_917a120a7b52459085fbb3d9706b3c11",
       "style": "IPY_MODEL_3e7ebbd732294157ab6619f326a7ba38"
      }
     },
     "f9d36e46691a4a9195fc0c8ab07e9346": {
      "model_module": "@jupyter-widgets/controls",
      "model_module_version": "1.5.0",
      "model_name": "HBoxModel",
      "state": {
       "children": [
        "IPY_MODEL_cc2710e58a3245c4b34fa0f95342a0b9",
        "IPY_MODEL_f814d3530b11463d849e3cdaa3b52fea",
        "IPY_MODEL_535859d8626e4765a0d2fc280e39e565",
        "IPY_MODEL_c68e4e4c48b04aa1a24840897172ac21",
        "IPY_MODEL_8f2c5b5ed71244178d0cddd7a0e9522b"
       ],
       "layout": "IPY_MODEL_b24e49c5af284a08bbbf4c988a271d06"
      }
     },
     "fb39fd0e74ab4f8b9d2edc96733ad1ec": {
      "model_module": "@jupyter-widgets/controls",
      "model_module_version": "1.5.0",
      "model_name": "HTMLModel",
      "state": {
       "layout": "IPY_MODEL_87bc1a75a7ce47cba21db30e1ac042c0",
       "style": "IPY_MODEL_316aa1d1e8274ca2a879f3c386a69fd0",
       "value": "60281667830b027fe2324321"
      }
     },
     "fc087bc9b6e24365b256517573b43be0": {
      "model_module": "@jupyter-widgets/controls",
      "model_module_version": "1.5.0",
      "model_name": "DescriptionStyleModel",
      "state": {
       "description_width": ""
      }
     },
     "fc6c614cf52f4e4fab022a612610fc53": {
      "model_module": "@jupyter-widgets/controls",
      "model_module_version": "1.5.0",
      "model_name": "DescriptionStyleModel",
      "state": {
       "description_width": ""
      }
     },
     "fd3cdd2361ab4de187cb1b00bdc5620a": {
      "model_module": "@jupyter-widgets/controls",
      "model_module_version": "1.5.0",
      "model_name": "HTMLModel",
      "state": {
       "layout": "IPY_MODEL_6db460b13a0048c9b26c02470ef6ce15",
       "style": "IPY_MODEL_7f0e32f51c3f4540b8a3a1c8fafc96d5",
       "value": "ibmq_qasm_simulator"
      }
     }
    },
    "version_major": 2,
    "version_minor": 0
   }
  }
 },
 "nbformat": 4,
 "nbformat_minor": 4
}
